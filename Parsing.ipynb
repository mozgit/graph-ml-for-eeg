{
 "cells": [
  {
   "cell_type": "markdown",
   "id": "d7f2ed32",
   "metadata": {},
   "source": [
    "# Parsing dataset"
   ]
  },
  {
   "cell_type": "code",
   "execution_count": 5,
   "id": "50df35eb",
   "metadata": {},
   "outputs": [],
   "source": [
    "import pandas as pd\n",
    "netmats1_file = open('data/HCP_PTN1200/netmats/3T_HCP1200_MSMAll_d300_ts2/netmats1.txt','r')\n",
    "ids_file = open('data/HCP_PTN1200/subjectIDs.txt','r')\n",
    "targets_file = pd.read_csv('data/HCP_behavioural_data_1_17_2022_2_13_42.csv')\n",
    "results = netmats1_file.readlines()\n",
    "ids = ids_file.readlines()"
   ]
  },
  {
   "cell_type": "code",
   "execution_count": 6,
   "id": "406853cd",
   "metadata": {},
   "outputs": [
    {
     "name": "stdout",
     "output_type": "stream",
     "text": [
      "all done\n"
     ]
    }
   ],
   "source": [
    "exp_len = 300\n",
    "adj_matrices = []\n",
    "for i,r in enumerate(results):\n",
    "    if len(r.split(\" \"))!=exp_len**2:\n",
    "        print(f\"Error in line {i} : {len(r.split(' '))} elements\")\n",
    "    else:\n",
    "        m = []\n",
    "        _id = int(ids[i].strip())\n",
    "        gender = targets_file.loc[targets_file['Subject']==_id]['Gender'].values[0]\n",
    "        gender = 0 if gender == 'M' else 1\n",
    "        r = r.strip()\n",
    "        r = [float(x) for x in r.split(\" \")]\n",
    "        for j in range(exp_len):\n",
    "            m.append(r[j*exp_len:(j+1)*exp_len])\n",
    "        adj_matrices.append({'adjacency':m,'gender':gender})\n",
    "print(\"all done\")"
   ]
  },
  {
   "cell_type": "code",
   "execution_count": 7,
   "id": "27fe74d6",
   "metadata": {},
   "outputs": [],
   "source": [
    "import pickle as pkl\n",
    "with open('parsed_data_nm1_gender.pkl', 'wb') as f:\n",
    "    pkl.dump(adj_matrices, f)"
   ]
  },
  {
   "cell_type": "code",
   "execution_count": 9,
   "outputs": [
    {
     "data": {
      "text/plain": "(300, 300)"
     },
     "execution_count": 9,
     "metadata": {},
     "output_type": "execute_result"
    }
   ],
   "source": [
    "import numpy as np\n",
    "np.array(adj_matrices[0]['adjacency']).shape"
   ],
   "metadata": {
    "collapsed": false
   }
  },
  {
   "cell_type": "code",
   "execution_count": null,
   "outputs": [],
   "source": [],
   "metadata": {
    "collapsed": false
   }
  }
 ],
 "metadata": {
  "kernelspec": {
   "display_name": "Python (eeg)",
   "language": "python",
   "name": "eeg"
  },
  "language_info": {
   "codemirror_mode": {
    "name": "ipython",
    "version": 3
   },
   "file_extension": ".py",
   "mimetype": "text/x-python",
   "name": "python",
   "nbconvert_exporter": "python",
   "pygments_lexer": "ipython3",
   "version": "3.9.16"
  }
 },
 "nbformat": 4,
 "nbformat_minor": 5
}
