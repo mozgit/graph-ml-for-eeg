{
 "cells": [
  {
   "cell_type": "markdown",
   "id": "d7f2ed32",
   "metadata": {},
   "source": [
    "# Parsing dataset"
   ]
  },
  {
   "cell_type": "code",
   "execution_count": null,
   "id": "50df35eb",
   "metadata": {},
   "outputs": [],
   "source": [
    "import pandas as pd\n",
    "netmats1_file = open('data/HCP_PTN1200/netmats/3T_HCP1200_MSMAll_d300_ts2/netmats1.txt','r')\n",
    "results = netmats1_file.readlines()"
   ]
  },
  {
   "cell_type": "code",
   "execution_count": null,
   "id": "0001ca82",
   "metadata": {},
   "outputs": [],
   "source": [
    "exp_len = 300\n",
    "adj_matricies = []\n",
    "for i,r in enumerate(results):\n",
    "    if len(r.split(\" \"))!=exp_len**2:\n",
    "        print(f\"Error in line {i} : {len(r.split(' '))} elements\")\n",
    "    else:\n",
    "        m = []\n",
    "        for j,l in r.enu\n",
    "print(\"all done\")"
   ]
  },
  {
   "cell_type": "code",
   "execution_count": null,
   "id": "49700c1e",
   "metadata": {},
   "outputs": [],
   "source": [
    "len(results)"
   ]
  },
  {
   "cell_type": "code",
   "execution_count": null,
   "id": "f976b5ca",
   "metadata": {},
   "outputs": [],
   "source": []
  }
 ],
 "metadata": {
  "kernelspec": {
   "display_name": "Python (eeg)",
   "language": "python",
   "name": "eeg"
  },
  "language_info": {
   "codemirror_mode": {
    "name": "ipython",
    "version": 3
   },
   "file_extension": ".py",
   "mimetype": "text/x-python",
   "name": "python",
   "nbconvert_exporter": "python",
   "pygments_lexer": "ipython3",
   "version": "3.9.16"
  }
 },
 "nbformat": 4,
 "nbformat_minor": 5
}
