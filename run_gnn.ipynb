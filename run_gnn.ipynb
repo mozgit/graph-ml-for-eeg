{
 "cells": [
  {
   "cell_type": "code",
   "execution_count": null,
   "id": "8051ca80",
   "metadata": {},
   "outputs": [],
   "source": [
    "!git clone https://github.com/mozgit/graph-ml-for-eeg.git"
   ]
  },
  {
   "cell_type": "code",
   "execution_count": null,
   "id": "c58754c6",
   "metadata": {},
   "outputs": [],
   "source": [
    "import sys\n",
    "sys.path.insert(0,'/content/graph-ml-for-eeg')"
   ]
  },
  {
   "cell_type": "code",
   "execution_count": null,
   "id": "d94403d5",
   "metadata": {},
   "outputs": [],
   "source": [
    "pip install tensorboardX"
   ]
  },
  {
   "cell_type": "code",
   "execution_count": null,
   "id": "87eadd72",
   "metadata": {},
   "outputs": [],
   "source": [
    "import torch"
   ]
  },
  {
   "cell_type": "code",
   "execution_count": null,
   "id": "3026fad5",
   "metadata": {},
   "outputs": [],
   "source": [
    "!pip uninstall torch-scatter torch-sparse torch-geometric torch-cluster  --y\n",
    "!pip install torch-scatter -f https://data.pyg.org/whl/torch-{torch.__version__}.html\n",
    "!pip install torch-sparse -f https://data.pyg.org/whl/torch-{torch.__version__}.html\n",
    "!pip install torch-cluster -f https://data.pyg.org/whl/torch-{torch.__version__}.html\n",
    "!pip install git+https://github.com/pyg-team/pytorch_geometric.git"
   ]
  },
  {
   "cell_type": "code",
   "execution_count": null,
   "id": "6f19b6fe",
   "metadata": {},
   "outputs": [],
   "source": [
    "%run ./graph-ml-for-eeg/brain_gnn_train.py --dataroot ./drive/MyDrive/graph-ml-for-eeg/data/"
   ]
  }
 ],
 "metadata": {
  "kernelspec": {
   "display_name": "Python 3 (ipykernel)",
   "language": "python",
   "name": "python3"
  },
  "language_info": {
   "codemirror_mode": {
    "name": "ipython",
    "version": 3
   },
   "file_extension": ".py",
   "mimetype": "text/x-python",
   "name": "python",
   "nbconvert_exporter": "python",
   "pygments_lexer": "ipython3",
   "version": "3.9.13"
  }
 },
 "nbformat": 4,
 "nbformat_minor": 5
}
